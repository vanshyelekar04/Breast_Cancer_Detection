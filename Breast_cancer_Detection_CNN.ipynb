{
  "nbformat": 4,
  "nbformat_minor": 0,
  "metadata": {
    "colab": {
      "provenance": []
    },
    "kernelspec": {
      "name": "python3",
      "display_name": "Python 3"
    },
    "language_info": {
      "name": "python"
    }
  },
  "cells": [
    {
      "cell_type": "markdown",
      "source": [
        "# **Create a neural network model to detect breast cancer using the Wisconsin Diagnostic Breast Cancer (WDBC) dataset -- Using CNN**"
      ],
      "metadata": {
        "id": "TKXbWcXRq7dc"
      }
    },
    {
      "cell_type": "code",
      "source": [
        "from sklearn.datasets import load_breast_cancer\n",
        "import pandas as pd\n",
        "import tensorflow as tf\n",
        "import numpy as np\n",
        "import matplotlib.pyplot as plt"
      ],
      "metadata": {
        "id": "JpBYFcOUrBhD"
      },
      "execution_count": 1,
      "outputs": []
    },
    {
      "cell_type": "code",
      "source": [
        "data = load_breast_cancer()"
      ],
      "metadata": {
        "id": "-RxAIWGpravy"
      },
      "execution_count": 2,
      "outputs": []
    },
    {
      "cell_type": "code",
      "source": [
        "df = pd.DataFrame(data.data, columns=data.feature_names)\n",
        "df['target'] = data.target\n",
        "print(df.head())"
      ],
      "metadata": {
        "colab": {
          "base_uri": "https://localhost:8080/"
        },
        "id": "hXGs2etmrgMd",
        "outputId": "0926ee61-2fad-47fb-de1a-862b6a54ce49"
      },
      "execution_count": 3,
      "outputs": [
        {
          "output_type": "stream",
          "name": "stdout",
          "text": [
            "   mean radius  mean texture  mean perimeter  mean area  mean smoothness  \\\n",
            "0        17.99         10.38          122.80     1001.0          0.11840   \n",
            "1        20.57         17.77          132.90     1326.0          0.08474   \n",
            "2        19.69         21.25          130.00     1203.0          0.10960   \n",
            "3        11.42         20.38           77.58      386.1          0.14250   \n",
            "4        20.29         14.34          135.10     1297.0          0.10030   \n",
            "\n",
            "   mean compactness  mean concavity  mean concave points  mean symmetry  \\\n",
            "0           0.27760          0.3001              0.14710         0.2419   \n",
            "1           0.07864          0.0869              0.07017         0.1812   \n",
            "2           0.15990          0.1974              0.12790         0.2069   \n",
            "3           0.28390          0.2414              0.10520         0.2597   \n",
            "4           0.13280          0.1980              0.10430         0.1809   \n",
            "\n",
            "   mean fractal dimension  ...  worst texture  worst perimeter  worst area  \\\n",
            "0                 0.07871  ...          17.33           184.60      2019.0   \n",
            "1                 0.05667  ...          23.41           158.80      1956.0   \n",
            "2                 0.05999  ...          25.53           152.50      1709.0   \n",
            "3                 0.09744  ...          26.50            98.87       567.7   \n",
            "4                 0.05883  ...          16.67           152.20      1575.0   \n",
            "\n",
            "   worst smoothness  worst compactness  worst concavity  worst concave points  \\\n",
            "0            0.1622             0.6656           0.7119                0.2654   \n",
            "1            0.1238             0.1866           0.2416                0.1860   \n",
            "2            0.1444             0.4245           0.4504                0.2430   \n",
            "3            0.2098             0.8663           0.6869                0.2575   \n",
            "4            0.1374             0.2050           0.4000                0.1625   \n",
            "\n",
            "   worst symmetry  worst fractal dimension  target  \n",
            "0          0.4601                  0.11890       0  \n",
            "1          0.2750                  0.08902       0  \n",
            "2          0.3613                  0.08758       0  \n",
            "3          0.6638                  0.17300       0  \n",
            "4          0.2364                  0.07678       0  \n",
            "\n",
            "[5 rows x 31 columns]\n"
          ]
        }
      ]
    },
    {
      "cell_type": "code",
      "source": [
        "df.isnull().sum()"
      ],
      "metadata": {
        "colab": {
          "base_uri": "https://localhost:8080/"
        },
        "id": "JWlOEcW7rzFn",
        "outputId": "f0fe023b-4e87-4163-af80-fe3fd008a982"
      },
      "execution_count": 6,
      "outputs": [
        {
          "output_type": "execute_result",
          "data": {
            "text/plain": [
              "mean radius                0\n",
              "mean texture               0\n",
              "mean perimeter             0\n",
              "mean area                  0\n",
              "mean smoothness            0\n",
              "mean compactness           0\n",
              "mean concavity             0\n",
              "mean concave points        0\n",
              "mean symmetry              0\n",
              "mean fractal dimension     0\n",
              "radius error               0\n",
              "texture error              0\n",
              "perimeter error            0\n",
              "area error                 0\n",
              "smoothness error           0\n",
              "compactness error          0\n",
              "concavity error            0\n",
              "concave points error       0\n",
              "symmetry error             0\n",
              "fractal dimension error    0\n",
              "worst radius               0\n",
              "worst texture              0\n",
              "worst perimeter            0\n",
              "worst area                 0\n",
              "worst smoothness           0\n",
              "worst compactness          0\n",
              "worst concavity            0\n",
              "worst concave points       0\n",
              "worst symmetry             0\n",
              "worst fractal dimension    0\n",
              "target                     0\n",
              "dtype: int64"
            ]
          },
          "metadata": {},
          "execution_count": 6
        }
      ]
    },
    {
      "cell_type": "code",
      "source": [
        "x= data.data\n",
        "y= data.target"
      ],
      "metadata": {
        "id": "qfrK6KWur4V3"
      },
      "execution_count": 7,
      "outputs": []
    },
    {
      "cell_type": "code",
      "source": [
        "from sklearn.model_selection import train_test_split\n",
        "\n",
        "x_train,x_test,y_train,y_test = train_test_split(x,y,test_size=0.33,random_state=0)"
      ],
      "metadata": {
        "id": "R1PC5ZclsFAx"
      },
      "execution_count": 8,
      "outputs": []
    },
    {
      "cell_type": "code",
      "source": [
        "from sklearn.preprocessing import StandardScaler\n",
        "sc = StandardScaler()\n",
        "x_train = sc.fit_transform(x_train)\n",
        "x_test = sc.transform(x_test)"
      ],
      "metadata": {
        "id": "tO4cnQS3sLUj"
      },
      "execution_count": 9,
      "outputs": []
    },
    {
      "cell_type": "code",
      "source": [
        "# Reshape the data to fit CNN input requirements\n",
        "x_train = x_train.reshape(x_train.shape[0], x_train.shape[1], 1)\n",
        "x_test = x_test.reshape(x_test.shape[0], x_test.shape[1], 1)"
      ],
      "metadata": {
        "id": "sFbm7iLssONY"
      },
      "execution_count": 11,
      "outputs": []
    },
    {
      "cell_type": "code",
      "source": [
        "## applying CNN methods\n",
        "from tensorflow.keras import datasets, layers, models\n",
        "from tensorflow.keras.models import Sequential\n",
        "from tensorflow.keras.layers import Dense, Dropout, Conv1D, MaxPooling1D, Flatten\n",
        "from tensorflow.keras.optimizers import Adam\n",
        "from tensorflow.keras.callbacks import EarlyStopping\n",
        "from sklearn.metrics import accuracy_score, recall_score"
      ],
      "metadata": {
        "id": "2M3EfdE5sXWh"
      },
      "execution_count": 16,
      "outputs": []
    },
    {
      "cell_type": "code",
      "source": [
        "model = models.Sequential([\n",
        "    Conv1D(32,kernel_size=3,activation='relu',input_shape=(x_train.shape[1],1)),\n",
        "    MaxPooling1D(pool_size=2),\n",
        "    Dropout(0.5),\n",
        "    Conv1D(64, kernel_size=3, activation='relu'),\n",
        "    MaxPooling1D(pool_size=2),\n",
        "    Dropout(0.5),\n",
        "    Flatten(),\n",
        "    Dense(64, activation='relu'),\n",
        "    Dropout(0.5),\n",
        "    Dense(1, activation='sigmoid')\n",
        "])"
      ],
      "metadata": {
        "id": "JpmBGFIsszQs"
      },
      "execution_count": 18,
      "outputs": []
    },
    {
      "cell_type": "code",
      "source": [
        "# Compile the model\n",
        "model.compile(optimizer=Adam(learning_rate=0.001),loss='binary_crossentropy',metrics=['accuracy'])"
      ],
      "metadata": {
        "id": "nHVhijbFuWIT"
      },
      "execution_count": 19,
      "outputs": []
    },
    {
      "cell_type": "code",
      "source": [
        "# Set early stopping\n",
        "early_stopping = EarlyStopping(monitor='val_loss', patience=10, restore_best_weights=True)"
      ],
      "metadata": {
        "id": "Eh4kT2cfu8BJ"
      },
      "execution_count": 20,
      "outputs": []
    },
    {
      "cell_type": "code",
      "source": [
        "# Train the model\n",
        "history = model.fit(x_train, y_train, epochs=100, batch_size=32, validation_split=0.2, callbacks=[early_stopping])"
      ],
      "metadata": {
        "colab": {
          "base_uri": "https://localhost:8080/"
        },
        "id": "ulXExgX-u8rn",
        "outputId": "1c07fabc-8a26-45bb-df5f-85ee92d546ba"
      },
      "execution_count": 22,
      "outputs": [
        {
          "output_type": "stream",
          "name": "stdout",
          "text": [
            "Epoch 1/100\n",
            "10/10 [==============================] - 3s 67ms/step - loss: 0.6841 - accuracy: 0.6020 - val_loss: 0.5515 - val_accuracy: 0.8442\n",
            "Epoch 2/100\n",
            "10/10 [==============================] - 0s 17ms/step - loss: 0.4949 - accuracy: 0.8257 - val_loss: 0.4066 - val_accuracy: 0.8961\n",
            "Epoch 3/100\n",
            "10/10 [==============================] - 0s 16ms/step - loss: 0.3773 - accuracy: 0.8816 - val_loss: 0.2996 - val_accuracy: 0.8961\n",
            "Epoch 4/100\n",
            "10/10 [==============================] - 0s 14ms/step - loss: 0.2874 - accuracy: 0.9013 - val_loss: 0.2463 - val_accuracy: 0.8961\n",
            "Epoch 5/100\n",
            "10/10 [==============================] - 0s 14ms/step - loss: 0.2100 - accuracy: 0.9309 - val_loss: 0.2169 - val_accuracy: 0.8961\n",
            "Epoch 6/100\n",
            "10/10 [==============================] - 0s 15ms/step - loss: 0.2084 - accuracy: 0.9211 - val_loss: 0.1966 - val_accuracy: 0.9091\n",
            "Epoch 7/100\n",
            "10/10 [==============================] - 0s 15ms/step - loss: 0.1821 - accuracy: 0.9408 - val_loss: 0.1819 - val_accuracy: 0.9091\n",
            "Epoch 8/100\n",
            "10/10 [==============================] - 0s 17ms/step - loss: 0.2274 - accuracy: 0.9342 - val_loss: 0.1779 - val_accuracy: 0.9091\n",
            "Epoch 9/100\n",
            "10/10 [==============================] - 0s 13ms/step - loss: 0.1775 - accuracy: 0.9441 - val_loss: 0.1632 - val_accuracy: 0.9091\n",
            "Epoch 10/100\n",
            "10/10 [==============================] - 0s 16ms/step - loss: 0.1643 - accuracy: 0.9507 - val_loss: 0.1561 - val_accuracy: 0.9091\n",
            "Epoch 11/100\n",
            "10/10 [==============================] - 0s 14ms/step - loss: 0.1503 - accuracy: 0.9539 - val_loss: 0.1491 - val_accuracy: 0.9091\n",
            "Epoch 12/100\n",
            "10/10 [==============================] - 0s 23ms/step - loss: 0.1602 - accuracy: 0.9474 - val_loss: 0.1433 - val_accuracy: 0.9221\n",
            "Epoch 13/100\n",
            "10/10 [==============================] - 0s 9ms/step - loss: 0.1216 - accuracy: 0.9704 - val_loss: 0.1360 - val_accuracy: 0.9091\n",
            "Epoch 14/100\n",
            "10/10 [==============================] - 0s 10ms/step - loss: 0.1570 - accuracy: 0.9507 - val_loss: 0.1311 - val_accuracy: 0.9351\n",
            "Epoch 15/100\n",
            "10/10 [==============================] - 0s 9ms/step - loss: 0.1529 - accuracy: 0.9474 - val_loss: 0.1310 - val_accuracy: 0.9351\n",
            "Epoch 16/100\n",
            "10/10 [==============================] - 0s 9ms/step - loss: 0.1457 - accuracy: 0.9605 - val_loss: 0.1272 - val_accuracy: 0.9610\n",
            "Epoch 17/100\n",
            "10/10 [==============================] - 0s 9ms/step - loss: 0.1329 - accuracy: 0.9638 - val_loss: 0.1252 - val_accuracy: 0.9481\n",
            "Epoch 18/100\n",
            "10/10 [==============================] - 0s 13ms/step - loss: 0.1491 - accuracy: 0.9539 - val_loss: 0.1242 - val_accuracy: 0.9481\n",
            "Epoch 19/100\n",
            "10/10 [==============================] - 0s 10ms/step - loss: 0.1122 - accuracy: 0.9638 - val_loss: 0.1225 - val_accuracy: 0.9481\n",
            "Epoch 20/100\n",
            "10/10 [==============================] - 0s 10ms/step - loss: 0.1512 - accuracy: 0.9572 - val_loss: 0.1214 - val_accuracy: 0.9610\n",
            "Epoch 21/100\n",
            "10/10 [==============================] - 0s 10ms/step - loss: 0.1255 - accuracy: 0.9638 - val_loss: 0.1138 - val_accuracy: 0.9740\n",
            "Epoch 22/100\n",
            "10/10 [==============================] - 0s 8ms/step - loss: 0.1337 - accuracy: 0.9671 - val_loss: 0.1164 - val_accuracy: 0.9481\n",
            "Epoch 23/100\n",
            "10/10 [==============================] - 0s 10ms/step - loss: 0.1416 - accuracy: 0.9605 - val_loss: 0.1121 - val_accuracy: 0.9610\n",
            "Epoch 24/100\n",
            "10/10 [==============================] - 0s 8ms/step - loss: 0.1193 - accuracy: 0.9671 - val_loss: 0.1142 - val_accuracy: 0.9740\n",
            "Epoch 25/100\n",
            "10/10 [==============================] - 0s 10ms/step - loss: 0.1253 - accuracy: 0.9638 - val_loss: 0.1093 - val_accuracy: 0.9740\n",
            "Epoch 26/100\n",
            "10/10 [==============================] - 0s 11ms/step - loss: 0.1100 - accuracy: 0.9671 - val_loss: 0.1075 - val_accuracy: 0.9481\n",
            "Epoch 27/100\n",
            "10/10 [==============================] - 0s 9ms/step - loss: 0.1211 - accuracy: 0.9507 - val_loss: 0.1121 - val_accuracy: 0.9740\n",
            "Epoch 28/100\n",
            "10/10 [==============================] - 0s 12ms/step - loss: 0.1206 - accuracy: 0.9605 - val_loss: 0.1028 - val_accuracy: 0.9740\n",
            "Epoch 29/100\n",
            "10/10 [==============================] - 0s 10ms/step - loss: 0.1004 - accuracy: 0.9572 - val_loss: 0.1019 - val_accuracy: 0.9740\n",
            "Epoch 30/100\n",
            "10/10 [==============================] - 0s 8ms/step - loss: 0.1043 - accuracy: 0.9572 - val_loss: 0.1007 - val_accuracy: 0.9610\n",
            "Epoch 31/100\n",
            "10/10 [==============================] - 0s 9ms/step - loss: 0.0986 - accuracy: 0.9704 - val_loss: 0.1054 - val_accuracy: 0.9740\n",
            "Epoch 32/100\n",
            "10/10 [==============================] - 0s 10ms/step - loss: 0.1324 - accuracy: 0.9441 - val_loss: 0.1014 - val_accuracy: 0.9740\n",
            "Epoch 33/100\n",
            "10/10 [==============================] - 0s 9ms/step - loss: 0.1101 - accuracy: 0.9605 - val_loss: 0.1003 - val_accuracy: 0.9740\n",
            "Epoch 34/100\n",
            "10/10 [==============================] - 0s 8ms/step - loss: 0.1004 - accuracy: 0.9671 - val_loss: 0.0980 - val_accuracy: 0.9740\n",
            "Epoch 35/100\n",
            "10/10 [==============================] - 0s 8ms/step - loss: 0.1223 - accuracy: 0.9572 - val_loss: 0.1009 - val_accuracy: 0.9610\n",
            "Epoch 36/100\n",
            "10/10 [==============================] - 0s 9ms/step - loss: 0.1181 - accuracy: 0.9605 - val_loss: 0.1067 - val_accuracy: 0.9740\n",
            "Epoch 37/100\n",
            "10/10 [==============================] - 0s 9ms/step - loss: 0.1151 - accuracy: 0.9671 - val_loss: 0.1071 - val_accuracy: 0.9740\n",
            "Epoch 38/100\n",
            "10/10 [==============================] - 0s 14ms/step - loss: 0.1263 - accuracy: 0.9572 - val_loss: 0.1061 - val_accuracy: 0.9740\n",
            "Epoch 39/100\n",
            "10/10 [==============================] - 0s 15ms/step - loss: 0.1109 - accuracy: 0.9638 - val_loss: 0.1083 - val_accuracy: 0.9610\n",
            "Epoch 40/100\n",
            "10/10 [==============================] - 0s 14ms/step - loss: 0.0996 - accuracy: 0.9704 - val_loss: 0.1078 - val_accuracy: 0.9740\n",
            "Epoch 41/100\n",
            "10/10 [==============================] - 0s 13ms/step - loss: 0.1244 - accuracy: 0.9539 - val_loss: 0.1050 - val_accuracy: 0.9740\n",
            "Epoch 42/100\n",
            "10/10 [==============================] - 0s 14ms/step - loss: 0.0873 - accuracy: 0.9770 - val_loss: 0.1037 - val_accuracy: 0.9610\n",
            "Epoch 43/100\n",
            "10/10 [==============================] - 0s 13ms/step - loss: 0.1244 - accuracy: 0.9638 - val_loss: 0.1018 - val_accuracy: 0.9740\n",
            "Epoch 44/100\n",
            "10/10 [==============================] - 0s 16ms/step - loss: 0.0957 - accuracy: 0.9572 - val_loss: 0.1024 - val_accuracy: 0.9740\n"
          ]
        }
      ]
    },
    {
      "cell_type": "code",
      "source": [
        "# Evaluate the model\n",
        "y_pred = (model.predict(x_test) > 0.5).astype(\"int32\")\n",
        "\n",
        "# Calculate accuracy and sensitivity\n",
        "accuracy = accuracy_score(y_test, y_pred)\n",
        "sensitivity = recall_score(y_test, y_pred)\n",
        "\n",
        "print(f\"Accuracy: {accuracy:.2f}\")\n",
        "print(f\"Sensitivity: {sensitivity:.2f}\")"
      ],
      "metadata": {
        "colab": {
          "base_uri": "https://localhost:8080/"
        },
        "id": "LvJCtAYGvBye",
        "outputId": "5df61967-61d4-45cf-9868-9440fd138da4"
      },
      "execution_count": 24,
      "outputs": [
        {
          "output_type": "stream",
          "name": "stdout",
          "text": [
            "6/6 [==============================] - 0s 7ms/step\n",
            "Accuracy: 0.96\n",
            "Sensitivity: 0.98\n"
          ]
        }
      ]
    }
  ]
}