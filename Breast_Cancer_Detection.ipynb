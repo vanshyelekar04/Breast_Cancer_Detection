{
  "nbformat": 4,
  "nbformat_minor": 0,
  "metadata": {
    "colab": {
      "provenance": [],
      "gpuType": "T4"
    },
    "kernelspec": {
      "name": "python3",
      "display_name": "Python 3"
    },
    "language_info": {
      "name": "python"
    },
    "accelerator": "GPU"
  },
  "cells": [
    {
      "cell_type": "markdown",
      "source": [
        "# **Create a neural network model to detect breast cancer using the Wisconsin Diagnostic Breast Cancer (WDBC) dataset**"
      ],
      "metadata": {
        "id": "QabDvVde2637"
      }
    },
    {
      "cell_type": "code",
      "execution_count": 17,
      "metadata": {
        "id": "kwcFnmD7nHgk"
      },
      "outputs": [],
      "source": [
        "from sklearn.datasets import load_breast_cancer\n",
        "import pandas as pd\n",
        "import tensorflow as tf\n",
        "import numpy as np\n",
        "import matplotlib.pyplot as plt"
      ]
    },
    {
      "cell_type": "code",
      "source": [
        "data = load_breast_cancer()"
      ],
      "metadata": {
        "id": "M1zA1BOhnd2N"
      },
      "execution_count": 18,
      "outputs": []
    },
    {
      "cell_type": "code",
      "source": [
        "df = pd.DataFrame(data.data, columns=data.feature_names)\n",
        "df['target'] = data.target\n",
        "print(df.head())"
      ],
      "metadata": {
        "colab": {
          "base_uri": "https://localhost:8080/"
        },
        "id": "iSl3aVA2nvr0",
        "outputId": "9c69b77e-c52b-4ff4-9519-eac746f9f153"
      },
      "execution_count": 19,
      "outputs": [
        {
          "output_type": "stream",
          "name": "stdout",
          "text": [
            "   mean radius  mean texture  mean perimeter  mean area  mean smoothness  \\\n",
            "0        17.99         10.38          122.80     1001.0          0.11840   \n",
            "1        20.57         17.77          132.90     1326.0          0.08474   \n",
            "2        19.69         21.25          130.00     1203.0          0.10960   \n",
            "3        11.42         20.38           77.58      386.1          0.14250   \n",
            "4        20.29         14.34          135.10     1297.0          0.10030   \n",
            "\n",
            "   mean compactness  mean concavity  mean concave points  mean symmetry  \\\n",
            "0           0.27760          0.3001              0.14710         0.2419   \n",
            "1           0.07864          0.0869              0.07017         0.1812   \n",
            "2           0.15990          0.1974              0.12790         0.2069   \n",
            "3           0.28390          0.2414              0.10520         0.2597   \n",
            "4           0.13280          0.1980              0.10430         0.1809   \n",
            "\n",
            "   mean fractal dimension  ...  worst texture  worst perimeter  worst area  \\\n",
            "0                 0.07871  ...          17.33           184.60      2019.0   \n",
            "1                 0.05667  ...          23.41           158.80      1956.0   \n",
            "2                 0.05999  ...          25.53           152.50      1709.0   \n",
            "3                 0.09744  ...          26.50            98.87       567.7   \n",
            "4                 0.05883  ...          16.67           152.20      1575.0   \n",
            "\n",
            "   worst smoothness  worst compactness  worst concavity  worst concave points  \\\n",
            "0            0.1622             0.6656           0.7119                0.2654   \n",
            "1            0.1238             0.1866           0.2416                0.1860   \n",
            "2            0.1444             0.4245           0.4504                0.2430   \n",
            "3            0.2098             0.8663           0.6869                0.2575   \n",
            "4            0.1374             0.2050           0.4000                0.1625   \n",
            "\n",
            "   worst symmetry  worst fractal dimension  target  \n",
            "0          0.4601                  0.11890       0  \n",
            "1          0.2750                  0.08902       0  \n",
            "2          0.3613                  0.08758       0  \n",
            "3          0.6638                  0.17300       0  \n",
            "4          0.2364                  0.07678       0  \n",
            "\n",
            "[5 rows x 31 columns]\n"
          ]
        }
      ]
    },
    {
      "cell_type": "code",
      "source": [
        "## check for missing values\n",
        "df.isnull().sum()"
      ],
      "metadata": {
        "colab": {
          "base_uri": "https://localhost:8080/"
        },
        "id": "CVpAp8zxpXDl",
        "outputId": "e70c325c-60f1-424c-a5ad-99ae11483969"
      },
      "execution_count": 20,
      "outputs": [
        {
          "output_type": "execute_result",
          "data": {
            "text/plain": [
              "mean radius                0\n",
              "mean texture               0\n",
              "mean perimeter             0\n",
              "mean area                  0\n",
              "mean smoothness            0\n",
              "mean compactness           0\n",
              "mean concavity             0\n",
              "mean concave points        0\n",
              "mean symmetry              0\n",
              "mean fractal dimension     0\n",
              "radius error               0\n",
              "texture error              0\n",
              "perimeter error            0\n",
              "area error                 0\n",
              "smoothness error           0\n",
              "compactness error          0\n",
              "concavity error            0\n",
              "concave points error       0\n",
              "symmetry error             0\n",
              "fractal dimension error    0\n",
              "worst radius               0\n",
              "worst texture              0\n",
              "worst perimeter            0\n",
              "worst area                 0\n",
              "worst smoothness           0\n",
              "worst compactness          0\n",
              "worst concavity            0\n",
              "worst concave points       0\n",
              "worst symmetry             0\n",
              "worst fractal dimension    0\n",
              "target                     0\n",
              "dtype: int64"
            ]
          },
          "metadata": {},
          "execution_count": 20
        }
      ]
    },
    {
      "cell_type": "code",
      "source": [
        "x = data.data\n",
        "y = data.target"
      ],
      "metadata": {
        "id": "vUKi_U74nxuJ"
      },
      "execution_count": 21,
      "outputs": []
    },
    {
      "cell_type": "code",
      "source": [
        "## train-test split\n",
        "\n",
        "from sklearn.model_selection import train_test_split\n",
        "\n",
        "x_train,x_test,y_train,y_test = train_test_split(x,y,test_size=0.33,random_state=0)"
      ],
      "metadata": {
        "id": "lJ3CbdTOo2Fl"
      },
      "execution_count": 22,
      "outputs": []
    },
    {
      "cell_type": "code",
      "source": [
        "from sklearn.preprocessing import StandardScaler\n",
        "sc = StandardScaler()\n",
        "x_train = sc.fit_transform(x_train)\n",
        "x_test = sc.transform(x_test)"
      ],
      "metadata": {
        "id": "554i209apQD4"
      },
      "execution_count": 23,
      "outputs": []
    },
    {
      "cell_type": "code",
      "source": [
        "x_train.shape"
      ],
      "metadata": {
        "colab": {
          "base_uri": "https://localhost:8080/"
        },
        "id": "tpefnFWjrVA-",
        "outputId": "1ac552b3-a70a-458e-ed2b-ae6d14c2a421"
      },
      "execution_count": 24,
      "outputs": [
        {
          "output_type": "execute_result",
          "data": {
            "text/plain": [
              "(381, 30)"
            ]
          },
          "metadata": {},
          "execution_count": 24
        }
      ]
    },
    {
      "cell_type": "code",
      "source": [
        "## apply ANN methods\n",
        "from tensorflow.keras.models import Sequential\n",
        "from tensorflow.keras.layers import Dense\n",
        "from tensorflow.keras.layers import LeakyReLU, ReLU, ELU, PReLU"
      ],
      "metadata": {
        "id": "u6L7bCrnr8NN"
      },
      "execution_count": 25,
      "outputs": []
    },
    {
      "cell_type": "markdown",
      "source": [
        "**Model 01**"
      ],
      "metadata": {
        "id": "q1WIYpYv1jFl"
      }
    },
    {
      "cell_type": "code",
      "source": [
        "model = Sequential()\n",
        "model.add(Dense(units = 64,activation='relu',input_shape=(x_train.shape[1],))) ## input layer\n",
        "model.add(Dense(units = 32,activation='relu')) ## hidden layer 1\n",
        "model.add(Dense(units = 16,activation='relu')) ## hidden layer 2\n",
        "model.add(Dense(units = 1,activation='sigmoid')) ## output layer"
      ],
      "metadata": {
        "id": "w7ztoqELsOTU"
      },
      "execution_count": 26,
      "outputs": []
    },
    {
      "cell_type": "code",
      "source": [
        "import tensorflow\n",
        "opt = tensorflow.keras.optimizers.Adam(learning_rate=0.001)"
      ],
      "metadata": {
        "id": "izvLvny3wbmo"
      },
      "execution_count": 27,
      "outputs": []
    },
    {
      "cell_type": "code",
      "source": [
        "model.compile(optimizer=opt, loss='binary_crossentropy', metrics=['accuracy'])"
      ],
      "metadata": {
        "id": "8X7UImXtwBA6"
      },
      "execution_count": 28,
      "outputs": []
    },
    {
      "cell_type": "code",
      "source": [
        "import keras\n",
        "early_stopping = keras.callbacks.EarlyStopping(\n",
        "    monitor=\"val_loss\",\n",
        "    min_delta=0,\n",
        "    patience=0,\n",
        "    verbose=0,\n",
        "    mode=\"auto\",\n",
        "    baseline=None,\n",
        "    restore_best_weights=False,\n",
        "    start_from_epoch=0,\n",
        ")"
      ],
      "metadata": {
        "id": "AZQOhtxBxIXQ"
      },
      "execution_count": 29,
      "outputs": []
    },
    {
      "cell_type": "code",
      "source": [
        "model_history = model.fit(x_train, y_train, epochs=1000, batch_size=32, validation_split=0.2, callbacks=early_stopping)"
      ],
      "metadata": {
        "colab": {
          "base_uri": "https://localhost:8080/"
        },
        "id": "GCFeTXvPwWYg",
        "outputId": "5d4cd1c5-354f-48ef-e2f5-9970ec09a5cf"
      },
      "execution_count": 30,
      "outputs": [
        {
          "output_type": "stream",
          "name": "stdout",
          "text": [
            "Epoch 1/1000\n",
            "10/10 [==============================] - 3s 40ms/step - loss: 0.5663 - accuracy: 0.7993 - val_loss: 0.4731 - val_accuracy: 0.9221\n",
            "Epoch 2/1000\n",
            "10/10 [==============================] - 0s 10ms/step - loss: 0.4191 - accuracy: 0.9605 - val_loss: 0.3605 - val_accuracy: 0.9351\n",
            "Epoch 3/1000\n",
            "10/10 [==============================] - 0s 13ms/step - loss: 0.3046 - accuracy: 0.9605 - val_loss: 0.2680 - val_accuracy: 0.9481\n",
            "Epoch 4/1000\n",
            "10/10 [==============================] - 0s 11ms/step - loss: 0.2150 - accuracy: 0.9605 - val_loss: 0.1998 - val_accuracy: 0.9610\n",
            "Epoch 5/1000\n",
            "10/10 [==============================] - 0s 10ms/step - loss: 0.1566 - accuracy: 0.9638 - val_loss: 0.1549 - val_accuracy: 0.9740\n",
            "Epoch 6/1000\n",
            "10/10 [==============================] - 0s 10ms/step - loss: 0.1231 - accuracy: 0.9638 - val_loss: 0.1270 - val_accuracy: 0.9740\n",
            "Epoch 7/1000\n",
            "10/10 [==============================] - 0s 10ms/step - loss: 0.1043 - accuracy: 0.9704 - val_loss: 0.1116 - val_accuracy: 0.9740\n",
            "Epoch 8/1000\n",
            "10/10 [==============================] - 0s 11ms/step - loss: 0.0926 - accuracy: 0.9737 - val_loss: 0.1035 - val_accuracy: 0.9610\n",
            "Epoch 9/1000\n",
            "10/10 [==============================] - 0s 10ms/step - loss: 0.0841 - accuracy: 0.9770 - val_loss: 0.0924 - val_accuracy: 0.9610\n",
            "Epoch 10/1000\n",
            "10/10 [==============================] - 0s 11ms/step - loss: 0.0768 - accuracy: 0.9770 - val_loss: 0.0892 - val_accuracy: 0.9610\n",
            "Epoch 11/1000\n",
            "10/10 [==============================] - 0s 9ms/step - loss: 0.0708 - accuracy: 0.9836 - val_loss: 0.0858 - val_accuracy: 0.9610\n",
            "Epoch 12/1000\n",
            "10/10 [==============================] - 0s 12ms/step - loss: 0.0660 - accuracy: 0.9836 - val_loss: 0.0856 - val_accuracy: 0.9610\n",
            "Epoch 13/1000\n",
            "10/10 [==============================] - 0s 11ms/step - loss: 0.0622 - accuracy: 0.9836 - val_loss: 0.0887 - val_accuracy: 0.9610\n"
          ]
        }
      ]
    },
    {
      "cell_type": "code",
      "source": [
        "## evaluate model\n",
        "\n",
        "y_pred = (model.predict(x_test)>0.5).astype('int32')"
      ],
      "metadata": {
        "colab": {
          "base_uri": "https://localhost:8080/"
        },
        "id": "koAklL7vxZpJ",
        "outputId": "6edcf361-df4e-498b-89e1-d89ea4d25a23"
      },
      "execution_count": 31,
      "outputs": [
        {
          "output_type": "stream",
          "name": "stdout",
          "text": [
            "6/6 [==============================] - 0s 3ms/step\n"
          ]
        }
      ]
    },
    {
      "cell_type": "code",
      "source": [
        "## calculate accuracy\n",
        "\n",
        "from sklearn.metrics import accuracy_score, recall_score\n",
        "\n",
        "accuracy = accuracy_score(y_test, y_pred)\n",
        "sensitivity = recall_score(y_test, y_pred)\n",
        "\n",
        "print(f\"Accuracy:{accuracy}\")\n",
        "print(f\"Sensitivity:{sensitivity}\")"
      ],
      "metadata": {
        "colab": {
          "base_uri": "https://localhost:8080/"
        },
        "id": "G5Pww0NXz7gV",
        "outputId": "c3700716-eed9-4ef9-8a95-f51b69651eb0"
      },
      "execution_count": 35,
      "outputs": [
        {
          "output_type": "stream",
          "name": "stdout",
          "text": [
            "Accuracy:0.9680851063829787\n",
            "Sensitivity:0.9669421487603306\n"
          ]
        }
      ]
    },
    {
      "cell_type": "code",
      "source": [
        "## confusion matrix\n",
        "\n",
        "from sklearn.metrics import confusion_matrix\n",
        "cm = confusion_matrix(y_test,y_pred)\n",
        "cm"
      ],
      "metadata": {
        "colab": {
          "base_uri": "https://localhost:8080/"
        },
        "id": "owMaR_jK0lGW",
        "outputId": "90bf8826-3e95-4b75-c0cb-d9dd188218b3"
      },
      "execution_count": 37,
      "outputs": [
        {
          "output_type": "execute_result",
          "data": {
            "text/plain": [
              "array([[ 65,   2],\n",
              "       [  4, 117]])"
            ]
          },
          "metadata": {},
          "execution_count": 37
        }
      ]
    },
    {
      "cell_type": "markdown",
      "source": [
        "**Model 02**"
      ],
      "metadata": {
        "id": "l_daGaOO1oZE"
      }
    },
    {
      "cell_type": "code",
      "source": [
        "# Build another neural network with different parameters\n",
        "from tensorflow.keras.layers import Dense, Dropout\n",
        "\n",
        "model2 = Sequential([\n",
        "    Dense(128, activation='relu', input_shape=(x_train.shape[1],)),\n",
        "    Dropout(0.4),\n",
        "    Dense(64, activation='relu'),\n",
        "    Dropout(0.4),\n",
        "    Dense(32, activation='relu'),\n",
        "    Dense(1, activation='sigmoid')\n",
        "])\n",
        "\n",
        "# Compile the model with a different optimizer\n",
        "model2.compile(optimizer=tf.keras.optimizers.RMSprop(learning_rate=0.0005), loss='binary_crossentropy', metrics=['accuracy'])\n",
        "\n",
        "# Train the model with a different batch size and more epochs\n",
        "history = model2.fit(x_train, y_train, epochs=200, batch_size=16, validation_split=0.2, callbacks=[early_stopping])\n",
        "\n",
        "# Evaluate the model\n",
        "y_pred = (model.predict(x_test) > 0.5).astype(\"int32\")\n",
        "\n",
        "# Calculate accuracy and sensitivity\n",
        "accuracy = accuracy_score(y_test, y_pred)\n",
        "sensitivity = recall_score(y_test, y_pred)\n",
        "\n",
        "print(f\"Accuracy: {accuracy:.2f}\")\n",
        "print(f\"Sensitivity: {sensitivity:.2f}\")\n"
      ],
      "metadata": {
        "colab": {
          "base_uri": "https://localhost:8080/"
        },
        "id": "VPTsz9Wh1GP6",
        "outputId": "c5d18fb6-1f48-42d3-a880-1f4fce0c45f9"
      },
      "execution_count": 38,
      "outputs": [
        {
          "output_type": "stream",
          "name": "stdout",
          "text": [
            "Epoch 1/200\n",
            "19/19 [==============================] - 4s 14ms/step - loss: 0.5327 - accuracy: 0.7895 - val_loss: 0.4052 - val_accuracy: 0.9221\n",
            "Epoch 2/200\n",
            "19/19 [==============================] - 0s 5ms/step - loss: 0.3410 - accuracy: 0.9408 - val_loss: 0.2747 - val_accuracy: 0.9351\n",
            "Epoch 3/200\n",
            "19/19 [==============================] - 0s 5ms/step - loss: 0.2563 - accuracy: 0.9309 - val_loss: 0.1932 - val_accuracy: 0.9610\n",
            "Epoch 4/200\n",
            "19/19 [==============================] - 0s 4ms/step - loss: 0.1900 - accuracy: 0.9507 - val_loss: 0.1471 - val_accuracy: 0.9870\n",
            "Epoch 5/200\n",
            "19/19 [==============================] - 0s 5ms/step - loss: 0.1525 - accuracy: 0.9474 - val_loss: 0.1161 - val_accuracy: 0.9870\n",
            "Epoch 6/200\n",
            "19/19 [==============================] - 0s 5ms/step - loss: 0.1393 - accuracy: 0.9507 - val_loss: 0.0943 - val_accuracy: 0.9870\n",
            "Epoch 7/200\n",
            "19/19 [==============================] - 0s 5ms/step - loss: 0.1078 - accuracy: 0.9704 - val_loss: 0.0824 - val_accuracy: 0.9870\n",
            "Epoch 8/200\n",
            "19/19 [==============================] - 0s 5ms/step - loss: 0.1057 - accuracy: 0.9671 - val_loss: 0.0740 - val_accuracy: 0.9870\n",
            "Epoch 9/200\n",
            "19/19 [==============================] - 0s 5ms/step - loss: 0.1050 - accuracy: 0.9605 - val_loss: 0.0666 - val_accuracy: 0.9740\n",
            "Epoch 10/200\n",
            "19/19 [==============================] - 0s 6ms/step - loss: 0.0945 - accuracy: 0.9638 - val_loss: 0.0618 - val_accuracy: 0.9870\n",
            "Epoch 11/200\n",
            "19/19 [==============================] - 0s 5ms/step - loss: 0.0718 - accuracy: 0.9737 - val_loss: 0.0596 - val_accuracy: 0.9740\n",
            "Epoch 12/200\n",
            "19/19 [==============================] - 0s 4ms/step - loss: 0.0975 - accuracy: 0.9671 - val_loss: 0.0600 - val_accuracy: 0.9740\n",
            "6/6 [==============================] - 0s 2ms/step\n",
            "Accuracy: 0.97\n",
            "Sensitivity: 0.97\n"
          ]
        }
      ]
    },
    {
      "cell_type": "code",
      "source": [
        "import matplotlib.pyplot as plt\n",
        "\n",
        "# Plot training & validation accuracy values\n",
        "plt.plot(history.history['accuracy'])\n",
        "plt.plot(history.history['val_accuracy'])\n",
        "plt.title('Model accuracy')\n",
        "plt.ylabel('Accuracy')\n",
        "plt.xlabel('Epoch')\n",
        "plt.legend(['Train', 'Validation'], loc='upper left')\n",
        "plt.show()\n",
        "\n",
        "# Plot training & validation loss values\n",
        "plt.plot(history.history['loss'])\n",
        "plt.plot(history.history['val_loss'])\n",
        "plt.title('Model loss')\n",
        "plt.ylabel('Loss')\n",
        "plt.xlabel('Epoch')\n",
        "plt.legend(['Train', 'Validation'], loc='upper left')\n",
        "plt.show()\n"
      ],
      "metadata": {
        "colab": {
          "base_uri": "https://localhost:8080/",
          "height": 927
        },
        "id": "ts37pVNL2Ck3",
        "outputId": "7a11d2de-f823-4156-dceb-9578ea6ab411"
      },
      "execution_count": 39,
      "outputs": [
        {
          "output_type": "display_data",
          "data": {
            "text/plain": [
              "<Figure size 640x480 with 1 Axes>"
            ],
            "image/png": "[encoded data removed]"
          },
          "metadata": {}
        },
        {
          "output_type": "display_data",
          "data": {
            "text/plain": [
              "<Figure size 640x480 with 1 Axes>"
            ],
            "image/png": "[encoded data removed]"
          },
          "metadata": {}
        }
      ]
    },
    {
      "cell_type": "code",
      "source": [
        "\n",
        "\n"
      ],
      "metadata": {
        "id": "IwPv22Jn2e85"
      },
      "execution_count": null,
      "outputs": []
    }
  ]
}